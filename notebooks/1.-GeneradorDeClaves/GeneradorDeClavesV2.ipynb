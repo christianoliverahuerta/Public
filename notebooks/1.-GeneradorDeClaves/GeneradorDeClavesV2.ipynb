{
 "cells": [
  {
   "cell_type": "code",
   "execution_count": null,
   "metadata": {},
   "outputs": [],
   "source": [
    "import string\n",
    "import random\n",
    "\n",
    "## Ejemplo de contraseña: #5mdgH8E0*d(5lE#\n",
    "## generar clave desde los caracteres siguientes\n",
    "alphabets = list(string.ascii_letters)\n",
    "digits = list(string.digits)\n",
    "special_characters = list(\"!@#$%^&*()\")\n",
    "characters = list(string.ascii_letters + string.digits + \"!@#$%^&*()\")\n",
    "\n",
    "def generate_random_password():\n",
    "\t## lango de la clave del usuario\n",
    "\tlength = int(input(\"Ingresar largo de la contraseña: \"))\n",
    "\n",
    "\t## numero de tipo de caracteres\n",
    "\talphabets_count = int(input(\"Ingresar número de letras de la contraseña: \"))\n",
    "\tdigits_count = int(input(\"Ingresar número de digitos de la contraseña: \"))\n",
    "\tspecial_characters_count = int(input(\"Ingresar número de caracteres especiales de la contraseña: \"))\n",
    "\n",
    "\tcharacters_count = alphabets_count + digits_count + special_characters_count\n",
    "\n",
    "\t## chequea el largo total de la suma de caracteres\n",
    "\t## imprime si no es valida la suma de caracteres respecto al largo de la contraseña\n",
    "\tif characters_count > length:\n",
    "\t\tprint(\"Characters total count is greater than the password length\")\n",
    "\t\treturn\n",
    "\n",
    "\n",
    "\t## inicializando la contraseña\n",
    "\tpassword = []\n",
    "\t\n",
    "\t## letras aleatorias\n",
    "\tfor i in range(alphabets_count):\n",
    "\t\tpassword.append(random.choice(alphabets))\n",
    "\n",
    "\n",
    "\t## digitos aleatorios\n",
    "\tfor i in range(digits_count):\n",
    "\t\tpassword.append(random.choice(digits))\n",
    "\n",
    "\n",
    "\t## caracteres especiales aleatorios\n",
    "\tfor i in range(special_characters_count):\n",
    "\t\tpassword.append(random.choice(special_characters))\n",
    "\n",
    "\n",
    "\t## si el total de caracteres es menor que el largo de la contraseña\n",
    "\t## agrega caracteres aleatorios para que sea igual al largo de la contraseña\n",
    "\tif characters_count < length:\n",
    "\t\trandom.shuffle(characters)\n",
    "\t\tfor i in range(length - characters_count):\n",
    "\t\t\tpassword.append(random.choice(characters))\n",
    "\n",
    "\n",
    "\t## resultado de la contraseña aleatoria\n",
    "\trandom.shuffle(password)\n",
    "\n",
    "\t## convirtiendo la lista en string\n",
    "\t## imprimiendo la lista\n",
    "\tprint(\"\".join(password))\n",
    "\n",
    "\n",
    "\n",
    "## llamando la función\n",
    "generate_random_password()"
   ]
  }
 ],
 "metadata": {
  "kernelspec": {
   "display_name": "Python 3",
   "language": "python",
   "name": "python3"
  },
  "language_info": {
   "codemirror_mode": {
    "name": "ipython",
    "version": 3
   },
   "file_extension": ".py",
   "mimetype": "text/x-python",
   "name": "python",
   "nbconvert_exporter": "python",
   "pygments_lexer": "ipython3",
   "version": "3.10.4 (main, Nov 29 2022, 20:00:25) [GCC 9.4.0]"
  },
  "orig_nbformat": 4,
  "vscode": {
   "interpreter": {
    "hash": "3ad933181bd8a04b432d3370b9dc3b0662ad032c4dfaa4e4f1596c548f763858"
   }
  }
 },
 "nbformat": 4,
 "nbformat_minor": 2
}
