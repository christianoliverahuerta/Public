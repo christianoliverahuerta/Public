{
 "cells": [
  {
   "attachments": {},
   "cell_type": "markdown",
   "metadata": {},
   "source": [
    "#### DATA ENGINEERING PLATFORMS (MSCA 31012)\n",
    "#### Introduction to Pandas (Python Data Analysis Library)\n",
    "\n",
    "References & Useful Links: <br>\n",
    "https://pandas.pydata.org/ <br>\n",
    "https://github.com/rajathkmp/Python-Lectures <br>\n",
    "https://developers.google.com/edu/python/introduction <br>\n",
    "https://docs.python.org/3.7/tutorial/index.html <br>\n",
    "https://medium.com/dunder-data/from-pandas-to-scikit-learn-a-new-exciting-workflow-e88e2271ef62 <br>"
   ]
  },
  {
   "attachments": {},
   "cell_type": "markdown",
   "metadata": {},
   "source": [
    "Python's main data package is Pandas. Pandas is built on top of Python's numerical package, NumPy. These two packages are essential when calculating, manipulating, and merging data. Specifically, Pandas is the foundation that we will use to perform the majority of our tasks when working with data. But before we get into that, let's go over some Python basics.\n",
    "\n",
    "** Python Basics ** Python Data Structures and Indexing\n",
    "\n",
    "What are the main Python Data Types/Structures?\n",
    "\n",
    "Python has 6 data types:<br>\n",
    "\n",
    "Numbers<br>\n",
    "a. Int a = 10<br>\n",
    "b. Float a = 10.54 (.) floating point real values<br>\n",
    "c. Long a = 200L (L) Long integers; can be represented as ictal & hexadecimal<br>\n",
    "d. Complex a = 3.14(J) Contains integer in the range of 0 - 255<br>\n",
    "String 'Hello World'<br>\n",
    "Boolean True or False<br>\n",
    "List [1,4,5,6,7] { https://www.pythoncentral.io/python-lists-and-tuples/ }<br>\n",
    "Tuple (1,5,6,7,8,9)<br>\n",
    "Dictionary {'Illinois': 'Springfield', 'California': 'Sacramento', 'Texas': 'Austin'}<br>\n",
    "The main data structures are 4-6 above and additional documentation can be found here https://docs.python.org/3.7/tutorial/datastructures.html<br>"
   ]
  },
  {
   "cell_type": "code",
   "execution_count": 1,
   "metadata": {},
   "outputs": [],
   "source": [
    "# Indexing    \n",
    "# La indexación básica es una forma de seleccionar filas, elementos de datos en su lista, cadena, diccionario, etc.\n",
    "# La indexación de Python se basa en cero, lo que significa que el primer elemento se indexa en 0.\n",
    "\n",
    "# Un ejemplo de una cadena y una lista\n",
    "string1 = 'Good morning'\n",
    "fruit_list = ['Apple','Orange','Banana','Grapefruit','Mango','Pear','Kiwi','Pineapple','Grapes']"
   ]
  },
  {
   "cell_type": "code",
   "execution_count": 2,
   "metadata": {},
   "outputs": [
    {
     "name": "stdout",
     "output_type": "stream",
     "text": [
      "['Apple', 'Orange', 'Banana', 'Grapefruit', 'Mango', 'Pear', 'Kiwi', 'Pineapple', 'Grapes']\n",
      "['Apple', 'Orange', 'Banana']\n",
      "['Grapefruit', 'Mango', 'Pear', 'Kiwi', 'Pineapple', 'Grapes']\n",
      "Good\n",
      "morning\n"
     ]
    }
   ],
   "source": [
    "# El ejemplo anterior devuelve un solo valor al indexar. El uso de los dos puntos ':' le permite dividir la lista/cadena para\n",
    "# devolver varios valores. Al cortar, si deja el lado izquierdo de los dos puntos en blanco, se establecerá de forma predeterminada al principio de\n",
    "# la estructura de datos Del mismo modo, al dejar en blanco el lado derecho de los dos puntos, devolverá todo hasta el final de\n",
    "# la estructura de datos Por último, el lado derecho de los dos puntos incluirá hasta ese índice, pero NO lo incluirá.\n",
    "\n",
    "# aquí tenemos unos ejemplos:\n",
    "\n",
    "# imprimir toda la lista de frutas\n",
    "print(fruit_list)\n",
    "\n",
    "# Devuelve los primeros tres elementos en fruit_list\n",
    "print(fruit_list[:3]) # or fruit_list[0:4]\n",
    "\n",
    "# Devuelve todos los elementos excepto los primeros 3\n",
    "print(fruit_list[3:])\n",
    "\n",
    "# Devuelve los primeros 4 caracteres en string1\n",
    "print(string1[0:4])\n",
    "\n",
    "# Devuelve todos los elementos excepto los primeros 5 en string1\n",
    "print(string1[5:])"
   ]
  },
  {
   "cell_type": "code",
   "execution_count": 3,
   "metadata": {},
   "outputs": [
    {
     "name": "stdout",
     "output_type": "stream",
     "text": [
      "Apple\n",
      "Banana\n",
      "Grapes\n",
      "G\n",
      "o\n"
     ]
    }
   ],
   "source": [
    "## Para indexar el primer elemento, escriba el nombre de la variable, seguido de corchetes. Entre corchetes es donde\n",
    "## para entrar en el índice. El primer elemento es 0. Para indexar el segundo elemento, use 1 y así sucesivamente.\n",
    "## Indexar una cadena encontrará la letra/carácter de manera similar\n",
    "## El uso de un índice negativo funcionará al revés, comenzando desde el final de la estructura de datos, es -1 devolverá el último\n",
    "## elemento. \n",
    "\n",
    "# Imprime el primer elemento de fruit_list.\n",
    "print(fruit_list[0])\n",
    "\n",
    "# Imprime el tercer elemento de fruit_list.\n",
    "print(fruit_list[2])\n",
    "\n",
    "# Imprime el último elemento de fruit_list.\n",
    "print(fruit_list[-1])\n",
    "\n",
    "# Imprime el primer caracter de string1\n",
    "print(string1[0])\n",
    "\n",
    "# Imprime el séptimo carácter de string1\n",
    "print(string1[6])"
   ]
  },
  {
   "cell_type": "code",
   "execution_count": 4,
   "metadata": {},
   "outputs": [
    {
     "name": "stdout",
     "output_type": "stream",
     "text": [
      "[1, 2, 3, 5, 8, 6, 78, 25, 14, 98, 65, 32, 7, 18]\n",
      "14\n",
      "[1, 2, 3, 5, 8, 6]\n",
      "[5, 8]\n",
      "18\n",
      "[98, 65, 32, 7, 18]\n",
      "\n",
      "\n",
      "Si fallas en prepararte, prepárate para fallar.\n",
      "S\n",
      "i fal\n",
      "llar.\n"
     ]
    }
   ],
   "source": [
    "# ejemplos adicionales\n",
    "List1 = [1,2,3,5,8,6,78,25,14,98,65,32,7,18]\n",
    "string2 = 'Si fallas en prepararte, prepárate para fallar.'\n",
    "\n",
    "# imprimir cadena y lista\n",
    "print(List1)\n",
    "# resultado [1, 2, 3, 5, 8, 6, 78, 25, 14, 98, 65, 32, 7, 18]\n",
    "\n",
    "# devuelve el 7.° elemento (8.° índice)\n",
    "print(List1[8])\n",
    "# resultado 14\n",
    "\n",
    "# indexar los primeros 5 elementos\n",
    "print(List1[0:6])\n",
    "# resultado [1, 2, 3, 5, 8, 6]\n",
    "\n",
    "# Devuelve el 4º y 5º elemento.\n",
    "print(List1[3:5])\n",
    "# resultado [5, 8]\n",
    "\n",
    "# Use índice negativo para devolver el último elemento en la lista\n",
    "print(List1[-1])\n",
    "# resultado 18\n",
    "\n",
    "# Use índice negativo para devolver los últimos 5 elementos\n",
    "print(List1[-5:])\n",
    "# resultado [98, 65, 32, 7, 18]\n",
    "\n",
    "# print the string\n",
    "print(\"\\n\")\n",
    "print(string2)\n",
    "# resultado Si fallas en prepararte, prepárate para fallar.\n",
    "\n",
    "# Return 1st letter in string2\n",
    "print(string2[0])\n",
    "# resultado S\n",
    "\n",
    "# Return letters indexed at 1:6\n",
    "print(string2[1:6])\n",
    "# resultado i fal\n",
    "\n",
    "# Return last 5 characters\n",
    "print(string2[-5:])\n",
    "# resultado llar."
   ]
  },
  {
   "cell_type": "code",
   "execution_count": 5,
   "metadata": {},
   "outputs": [
    {
     "name": "stdout",
     "output_type": "stream",
     "text": [
      "la suma es mas de 15\n"
     ]
    }
   ],
   "source": [
    "# ejemplo condicional ( if, else )\n",
    "\n",
    "cond_list = [1,3,4,6,4]\n",
    "if sum(cond_list) < 15:\n",
    "    print(\"la suma es menos de 15\")\n",
    "else:\n",
    "    print(\"la suma es mas de 15\")"
   ]
  },
  {
   "cell_type": "code",
   "execution_count": 6,
   "metadata": {},
   "outputs": [
    {
     "name": "stdout",
     "output_type": "stream",
     "text": [
      "Pear\n",
      "Kiwi\n"
     ]
    }
   ],
   "source": [
    "# ¿Cuál es la diferencia entre un bucle for y un bucle while?\n",
    "# Un ciclo for se repetirá hasta que se agoten todos los elementos en la estructura de datos dada.\n",
    "# Un ciclo while seguirá repitiéndose hasta que se cumpla una condición.\n",
    "# Nota: tenga especial cuidado al usar un bucle while. Si no se hace correctamente, puede crear un bucle infinito.\n",
    "\n",
    "# Para ejemplo de bucle\n",
    "for fruit in fruit_list:\n",
    "    if len(fruit) < 5:\n",
    "        print(fruit)"
   ]
  },
  {
   "cell_type": "code",
   "execution_count": 7,
   "metadata": {},
   "outputs": [
    {
     "name": "stdout",
     "output_type": "stream",
     "text": [
      "El contador esta en 0\n",
      "El contador esta en 1\n",
      "El contador esta en 2\n",
      "El contador esta en 3\n",
      "El contador esta en 4\n",
      "El contador esta en 5\n",
      "El contador esta en 6\n",
      "El contador esta en 7\n",
      "El contador esta en 8\n",
      "El contador esta en 9\n"
     ]
    }
   ],
   "source": [
    "# Ejemplo de bucle while\n",
    "count = 0\n",
    "\n",
    "while count < 10:\n",
    "    print(\"El contador esta en %d\" %count)\n",
    "    count +=1"
   ]
  },
  {
   "cell_type": "code",
   "execution_count": 8,
   "metadata": {},
   "outputs": [
    {
     "data": {
      "text/plain": [
       "[2, 4, 6, 10, 16, 12, 156, 50, 28, 196, 130, 64, 14, 36]"
      ]
     },
     "execution_count": 8,
     "metadata": {},
     "output_type": "execute_result"
    }
   ],
   "source": [
    "# Lista de comprensiones\n",
    "# Al realizar cualquier tipo de análisis de datos, a menudo desea leer una lista, filtrar una lista, encontrar valores\n",
    "# dentro de una lista, eliminar espacios en blanco de una lista o, más notablemente, crear una nueva lista a partir de otra lista. Tenga en cuenta que cuando\n",
    "# utilice una 'lista', una columna de datos podría considerarse una lista. Una de las formas más eficientes de hacer todo lo que acabo de mencionar,\n",
    "# es utilizar una lista de comprensión. En resumen, una lista de comprensión es una línea de código rápida que es esencialmente un bucle for.\n",
    "\n",
    "# Veamos algunos ejemplos para ilustrar el poder de la comprensión de listas.\n",
    "\n",
    "# Ejemplo usando list1 arriba\n",
    "# List1 = [1,2,3,5,8,6,78,25,14,98,65,32,7,18]\n",
    "list_c = [n*2 for n in List1]\n",
    "list_c"
   ]
  },
  {
   "cell_type": "code",
   "execution_count": 9,
   "metadata": {},
   "outputs": [
    {
     "data": {
      "text/plain": [
       "[2, 4, 6, 10]"
      ]
     },
     "execution_count": 9,
     "metadata": {},
     "output_type": "execute_result"
    }
   ],
   "source": [
    "# Lista con operadores condicionales\n",
    "list_c2 = [n*2 for n in List1 if n < 6]\n",
    "list_c2"
   ]
  },
  {
   "attachments": {},
   "cell_type": "markdown",
   "metadata": {},
   "source": [
    "#####  Functions\n",
    "Antes de comenzar con nuestro tema de los pandas (y algunos números), repasaremos una parte vital de la programación, las funciones definidas por el usuario. Las funciones definidas por el usuario son útiles cuando crea un código que será repetible. Sería muy tedioso seguir escribiendo el mismo código una y otra vez para producir los mismos resultados. Algunos casos de uso relevantes incluyen la limpieza regular de un archivo, la realización de cálculos o la automatización de un proceso.\n",
    "\n",
    "Sintaxis de funciones definidas por el usuario:\n",
    "Para crear una función definida por el usuario, primero use la palabra clave 'def' seguida del nombre de su función (cualquier nombre que defina) seguido de parámetros (esto es opcional) que termina con paréntesis y dos puntos. Dentro de esta función, comience con su **cadena de documentos**, que es la documentación sobre lo que realiza su función, luego, el código, que debe estar escrito. Normalmente, el final de la función debería devolver o imprimir algo.\n",
    "\n",
    "def function_name():    \n",
    "&nbsp;&nbsp;&nbsp;&nbsp;your docstring     \n",
    "&nbsp;&nbsp;&nbsp;&nbsp;your code     \n",
    "&nbsp;&nbsp;&nbsp;&nbsp;return the output\n",
    "\n",
    "**Docstring** está contenido entre comillas triples y debe usarse para describir la función."
   ]
  },
  {
   "cell_type": "code",
   "execution_count": 10,
   "metadata": {},
   "outputs": [],
   "source": [
    "# Los siguientes son algunos ejemplos.\n",
    "# Ejemplo muy sencillo de devolución de la multiplicación de dos números\n",
    "def multiply_by(x,y): # 'x' & 'y' son solo variables definidas por el usuario\n",
    "    \"\"\" La función multiplicará dos números dados\"\"\"   # DocString\n",
    "    return x*y\n",
    "\n",
    "### Tenga en cuenta que la ubicación es importante dentro de los argumentos. Como x es primero, el valor asignado en ese parámetro será\n",
    "### corresponde a la 'x'."
   ]
  },
  {
   "cell_type": "code",
   "execution_count": 11,
   "metadata": {},
   "outputs": [
    {
     "name": "stdout",
     "output_type": "stream",
     "text": [
      "15\n"
     ]
    }
   ],
   "source": [
    "# Utilice la función multiplicar_por\n",
    "multiply_by(5,3) # Esto devolverá el producto de 5 y 3\n",
    "\n",
    "# La práctica común es que puede guardar el valor de esta función en otra variable para usarla más adelante.\n",
    "product = multiply_by(5,3)\n",
    "\n",
    "print(product)"
   ]
  },
  {
   "cell_type": "code",
   "execution_count": 12,
   "metadata": {},
   "outputs": [
    {
     "name": "stdout",
     "output_type": "stream",
     "text": [
      "Help on function multiply_by in module __main__:\n",
      "\n",
      "multiply_by(x, y)\n",
      "    La función multiplicará dos números dados\n",
      "\n"
     ]
    }
   ],
   "source": [
    "# Imprimir la cadena de documentación\n",
    "help(multiply_by)"
   ]
  },
  {
   "cell_type": "code",
   "execution_count": 13,
   "metadata": {},
   "outputs": [],
   "source": [
    "# Aunque la gran mayoría de las veces usaría parámetros, no es obligatorio. aquí hay otro ejemplo\n",
    "# En este ejemplo, utilizaré un paquete pandas, por lo que necesitaremos importar el paquete\n",
    "import pandas as pd\n",
    "\n",
    "fruit_series = pd.Series(['Apple', 'Orange', 'Banana', 'Grapefruit', 'Mango', 'Pear', 'Pineapple', 'Kiwi', 'Grapes'])\n",
    "def random_fruit():\n",
    "    \"\"\"\n",
    "    La función utiliza la función de 'muestra' de pandas que seleccionará aleatoriamente una fruta de la lista.\n",
    "    \"\"\"\n",
    "    return fruit_series.sample(1)"
   ]
  },
  {
   "cell_type": "code",
   "execution_count": 14,
   "metadata": {},
   "outputs": [
    {
     "data": {
      "text/plain": [
       "3    Grapefruit\n",
       "dtype: object"
      ]
     },
     "execution_count": 14,
     "metadata": {},
     "output_type": "execute_result"
    }
   ],
   "source": [
    "# Esta función devolverá aleatoriamente una fruta de fruit_series.\n",
    "random_fruit()"
   ]
  },
  {
   "cell_type": "code",
   "execution_count": 15,
   "metadata": {},
   "outputs": [],
   "source": [
    "# También podemos especificar valores predeterminados para uno de los argumentos dentro de la función.\n",
    "def n_root(x, y = 2):  # Si no especificamos el valor 'y', el valor predeterminado es 2.\n",
    "    \"\"\"\n",
    "    Function will take the nth root of x. The default is 2, which will square x.\n",
    "    \"\"\"\n",
    "    return x**y  # Exponentes"
   ]
  },
  {
   "cell_type": "code",
   "execution_count": 16,
   "metadata": {},
   "outputs": [
    {
     "data": {
      "text/plain": [
       "25"
      ]
     },
     "execution_count": 16,
     "metadata": {},
     "output_type": "execute_result"
    }
   ],
   "source": [
    "n_root(5)"
   ]
  },
  {
   "cell_type": "code",
   "execution_count": 17,
   "metadata": {},
   "outputs": [
    {
     "data": {
      "text/plain": [
       "32"
      ]
     },
     "execution_count": 17,
     "metadata": {},
     "output_type": "execute_result"
    }
   ],
   "source": [
    "n_root(2,5)"
   ]
  },
  {
   "cell_type": "code",
   "execution_count": 18,
   "metadata": {},
   "outputs": [
    {
     "data": {
      "text/plain": [
       "125"
      ]
     },
     "execution_count": 18,
     "metadata": {},
     "output_type": "execute_result"
    }
   ],
   "source": [
    "# También puede especificar dentro de los argumentos qué valor corresponde a la variable respectiva\n",
    "n_root(y=3, x=5)"
   ]
  },
  {
   "attachments": {},
   "cell_type": "markdown",
   "metadata": {},
   "source": [
    "#### Pandas\n",
    "Pandas es probablemente el paquete más utilizado en Python, especialmente para el análisis de datos. Es rápido, flexible y está diseñado para que trabajar con datos relacionales/etiquetados sea fácil e intuitivo. Hay dos tipos de estructuras de datos en pandas, una Serie (unidimensional, piense en una sola columna) y DataFrame (bidimensional, piense en datos tabulares). Hay un montón de cosas que los pandas pueden hacer. Aquí hay un enlace a algunos aspectos destacados:  [pandas](https://pandas.pydata.org/pandas-docs/stable/).\n",
    "\n",
    "Además, pandas es la estructura de datos preferida cuando se trabaja con otros paquetes en el entorno de análisis avanzado y ciencia de datos.\n",
    "\n",
    "Pandas no solo es excelente para wrangling/munging (disputar/mungear) y otros tipos de manejo (handling) de datos, sino que también está altamente optimizado para realizar cálculos y otras operaciones estadísticas. Esto se debe a que pandas se basa en NumPy, que es el paquete numérico para Python.\n",
    "\n",
    "###### Importing Data\n",
    "Python ofrece otras formas de importar datos a través de varios archivos. Sin embargo, como equipo de análisis de datos, es ideal si podemos colocar los datos en un marco de datos de pandas. Pandas puede importar diferentes tipos de archivos, como csv, excel, texto, json, incluso archivos sas. Vamos a sumergirnos en algunos ejemplos. Se trabajará en datos relacionados con quejas de un negocio.\n",
    "Los otros tipos de archivos que los pandas pueden importar, click [here](https://pandas.pydata.org/pandas-docs/stable/io.html)"
   ]
  },
  {
   "cell_type": "code",
   "execution_count": 44,
   "metadata": {},
   "outputs": [],
   "source": [
    "# Cuando trabaje con pandas, primero importe el paquete pandas y guárdelo como pd (esta es una convención estándar).\n",
    "# Comencemos con un archivo de CSV.\n",
    "\n",
    "import pandas as pd\n",
    "movie_df = pd.read_csv('../../data/moviesCSV.csv')\n",
    "\n",
    "# Lo que hace a continuación es garantizar que devolvamos un flotante en lugar de una notación científica\n",
    "pd.set_option('display.float_format', lambda x: '%.2f' % x)"
   ]
  },
  {
   "cell_type": "code",
   "execution_count": 52,
   "metadata": {},
   "outputs": [
    {
     "data": {
      "text/html": [
       "<div>\n",
       "<style scoped>\n",
       "    .dataframe tbody tr th:only-of-type {\n",
       "        vertical-align: middle;\n",
       "    }\n",
       "\n",
       "    .dataframe tbody tr th {\n",
       "        vertical-align: top;\n",
       "    }\n",
       "\n",
       "    .dataframe thead th {\n",
       "        text-align: right;\n",
       "    }\n",
       "</style>\n",
       "<table border=\"1\" class=\"dataframe\">\n",
       "  <thead>\n",
       "    <tr style=\"text-align: right;\">\n",
       "      <th></th>\n",
       "      <th>Title</th>\n",
       "      <th>Year</th>\n",
       "      <th>Genres</th>\n",
       "      <th>Language</th>\n",
       "      <th>Country</th>\n",
       "      <th>Content Rating</th>\n",
       "      <th>Duration</th>\n",
       "      <th>Aspect Ratio</th>\n",
       "      <th>Budget</th>\n",
       "      <th>Gross Earnings</th>\n",
       "      <th>...</th>\n",
       "      <th>Facebook Likes - Actor 2</th>\n",
       "      <th>Facebook Likes - Actor 3</th>\n",
       "      <th>Facebook Likes - cast Total</th>\n",
       "      <th>Facebook likes - Movie</th>\n",
       "      <th>Facenumber in posters</th>\n",
       "      <th>User Votes</th>\n",
       "      <th>Reviews by Users</th>\n",
       "      <th>Reviews by Crtiics</th>\n",
       "      <th>IMDB Score</th>\n",
       "      <th>Column</th>\n",
       "    </tr>\n",
       "  </thead>\n",
       "  <tbody>\n",
       "    <tr>\n",
       "      <th>0</th>\n",
       "      <td>Intolerance: Love's Struggle Throughout the Ages</td>\n",
       "      <td>1916.00</td>\n",
       "      <td>Drama|History|War</td>\n",
       "      <td>NaN</td>\n",
       "      <td>USA</td>\n",
       "      <td>Not Rated</td>\n",
       "      <td>123.00</td>\n",
       "      <td>1.33</td>\n",
       "      <td>385907.00</td>\n",
       "      <td>NaN</td>\n",
       "      <td>...</td>\n",
       "      <td>22.00</td>\n",
       "      <td>9.00</td>\n",
       "      <td>481.00</td>\n",
       "      <td>691.00</td>\n",
       "      <td>1.00</td>\n",
       "      <td>10718.00</td>\n",
       "      <td>88.00</td>\n",
       "      <td>69.00</td>\n",
       "      <td>8.00</td>\n",
       "      <td>NaN</td>\n",
       "    </tr>\n",
       "    <tr>\n",
       "      <th>1</th>\n",
       "      <td>Over the Hill to the Poorhouse</td>\n",
       "      <td>1920.00</td>\n",
       "      <td>Crime|Drama</td>\n",
       "      <td>NaN</td>\n",
       "      <td>USA</td>\n",
       "      <td>NaN</td>\n",
       "      <td>110.00</td>\n",
       "      <td>1.33</td>\n",
       "      <td>100000.00</td>\n",
       "      <td>3000000.00</td>\n",
       "      <td>...</td>\n",
       "      <td>2.00</td>\n",
       "      <td>0.00</td>\n",
       "      <td>4.00</td>\n",
       "      <td>0.00</td>\n",
       "      <td>1.00</td>\n",
       "      <td>5.00</td>\n",
       "      <td>1.00</td>\n",
       "      <td>1.00</td>\n",
       "      <td>4.80</td>\n",
       "      <td>NaN</td>\n",
       "    </tr>\n",
       "    <tr>\n",
       "      <th>2</th>\n",
       "      <td>The Big Parade</td>\n",
       "      <td>1925.00</td>\n",
       "      <td>Drama|Romance|War</td>\n",
       "      <td>NaN</td>\n",
       "      <td>USA</td>\n",
       "      <td>Not Rated</td>\n",
       "      <td>151.00</td>\n",
       "      <td>1.33</td>\n",
       "      <td>245000.00</td>\n",
       "      <td>NaN</td>\n",
       "      <td>...</td>\n",
       "      <td>12.00</td>\n",
       "      <td>6.00</td>\n",
       "      <td>108.00</td>\n",
       "      <td>226.00</td>\n",
       "      <td>0.00</td>\n",
       "      <td>4849.00</td>\n",
       "      <td>45.00</td>\n",
       "      <td>48.00</td>\n",
       "      <td>8.30</td>\n",
       "      <td>NaN</td>\n",
       "    </tr>\n",
       "    <tr>\n",
       "      <th>3</th>\n",
       "      <td>Metropolis</td>\n",
       "      <td>1927.00</td>\n",
       "      <td>Drama|Sci-Fi</td>\n",
       "      <td>German</td>\n",
       "      <td>Germany</td>\n",
       "      <td>Not Rated</td>\n",
       "      <td>145.00</td>\n",
       "      <td>1.33</td>\n",
       "      <td>6000000.00</td>\n",
       "      <td>26435.00</td>\n",
       "      <td>...</td>\n",
       "      <td>23.00</td>\n",
       "      <td>18.00</td>\n",
       "      <td>203.00</td>\n",
       "      <td>12000.00</td>\n",
       "      <td>1.00</td>\n",
       "      <td>111841.00</td>\n",
       "      <td>413.00</td>\n",
       "      <td>260.00</td>\n",
       "      <td>8.30</td>\n",
       "      <td>NaN</td>\n",
       "    </tr>\n",
       "  </tbody>\n",
       "</table>\n",
       "<p>4 rows × 26 columns</p>\n",
       "</div>"
      ],
      "text/plain": [
       "                                               Title    Year  \\\n",
       "0  Intolerance: Love's Struggle Throughout the Ages  1916.00   \n",
       "1                    Over the Hill to the Poorhouse  1920.00   \n",
       "2                                    The Big Parade  1925.00   \n",
       "3                                        Metropolis  1927.00   \n",
       "\n",
       "              Genres Language  Country Content Rating  Duration  Aspect Ratio  \\\n",
       "0  Drama|History|War      NaN      USA      Not Rated    123.00          1.33   \n",
       "1        Crime|Drama      NaN      USA            NaN    110.00          1.33   \n",
       "2  Drama|Romance|War      NaN      USA      Not Rated    151.00          1.33   \n",
       "3       Drama|Sci-Fi   German  Germany      Not Rated    145.00          1.33   \n",
       "\n",
       "      Budget  Gross Earnings  ... Facebook Likes - Actor 2  \\\n",
       "0  385907.00             NaN  ...                    22.00   \n",
       "1  100000.00      3000000.00  ...                     2.00   \n",
       "2  245000.00             NaN  ...                    12.00   \n",
       "3 6000000.00        26435.00  ...                    23.00   \n",
       "\n",
       "  Facebook Likes - Actor 3 Facebook Likes - cast Total Facebook likes - Movie  \\\n",
       "0                     9.00                      481.00                 691.00   \n",
       "1                     0.00                        4.00                   0.00   \n",
       "2                     6.00                      108.00                 226.00   \n",
       "3                    18.00                      203.00               12000.00   \n",
       "\n",
       "   Facenumber in posters  User Votes  Reviews by Users  Reviews by Crtiics  \\\n",
       "0                   1.00    10718.00             88.00               69.00   \n",
       "1                   1.00        5.00              1.00                1.00   \n",
       "2                   0.00     4849.00             45.00               48.00   \n",
       "3                   1.00   111841.00            413.00              260.00   \n",
       "\n",
       "   IMDB Score  Column  \n",
       "0        8.00     NaN  \n",
       "1        4.80     NaN  \n",
       "2        8.30     NaN  \n",
       "3        8.30     NaN  \n",
       "\n",
       "[4 rows x 26 columns]"
      ]
     },
     "execution_count": 52,
     "metadata": {},
     "output_type": "execute_result"
    }
   ],
   "source": [
    "# Aquí, pandas asume que la primera columna es el encabezado. Si no hay encabezados, podemos usar el\n",
    "# argumento de encabezado y configúrelo en Ninguno.\n",
    "movie_df.head(4)"
   ]
  },
  {
   "attachments": {},
   "cell_type": "markdown",
   "metadata": {},
   "source": [
    "#### Indexing & Subsetting\n",
    "#### Indexación y creación de subconjuntos\n",
    "Ahora que sabemos cómo importar datos, es importante comprender la indexación y el corte. Esto es útil si está buscando datos de formas específicas. Puede pensar en la indexación y el corte como formas de filtrar los datos. Por ejemplo, tal vez solo queramos mirar ciertas columnas o filas, o tal vez mirar datos que tengan un cierto saldo o categoría.\n",
    "\n",
    "Pandas tiene dos formas principales de indexar su marco de datos.\n",
    "\n",
    "La primera forma es con el método iloc. .iloc se basa principalmente en la posición de números enteros (de 0 a la longitud 1 del eje), pero también se puede usar con una matriz booleana.\n",
    "\n",
    "La otra forma es el método loc. .loc se basa principalmente en etiquetas, pero también se puede usar con una matriz booleana. .loc generará KeyError cuando no se encuentren los elementos.\n",
    "\n",
    "La documentación se puede encontrar [aquí](https://pandas.pydata.org/pandas-docs/stable/indexing.html).\n",
    "\n",
    "Para usar el método de indexación iloc o loc, agregue el método después del marco de datos seguido de corchetes. Dentro de los corchetes es donde indexamos.\n",
    "\n",
    "Ejemplo:\n",
    "df.iloc[selección de fila, selección de columna]\n",
    "df.loc['row name/index name', 'column_name'] -> el número de índice se puede usar en lugar del nombre de la columna.\n",
    "\n",
    "Veamos algunas de las formas de ver los datos."
   ]
  },
  {
   "cell_type": "code",
   "execution_count": 51,
   "metadata": {},
   "outputs": [
    {
     "data": {
      "text/html": [
       "<div>\n",
       "<style scoped>\n",
       "    .dataframe tbody tr th:only-of-type {\n",
       "        vertical-align: middle;\n",
       "    }\n",
       "\n",
       "    .dataframe tbody tr th {\n",
       "        vertical-align: top;\n",
       "    }\n",
       "\n",
       "    .dataframe thead th {\n",
       "        text-align: right;\n",
       "    }\n",
       "</style>\n",
       "<table border=\"1\" class=\"dataframe\">\n",
       "  <thead>\n",
       "    <tr style=\"text-align: right;\">\n",
       "      <th></th>\n",
       "      <th>Title</th>\n",
       "      <th>Year</th>\n",
       "      <th>Genres</th>\n",
       "      <th>Language</th>\n",
       "      <th>Country</th>\n",
       "      <th>Content Rating</th>\n",
       "      <th>Duration</th>\n",
       "      <th>Aspect Ratio</th>\n",
       "      <th>Budget</th>\n",
       "      <th>Gross Earnings</th>\n",
       "      <th>...</th>\n",
       "      <th>Facebook Likes - Actor 2</th>\n",
       "      <th>Facebook Likes - Actor 3</th>\n",
       "      <th>Facebook Likes - cast Total</th>\n",
       "      <th>Facebook likes - Movie</th>\n",
       "      <th>Facenumber in posters</th>\n",
       "      <th>User Votes</th>\n",
       "      <th>Reviews by Users</th>\n",
       "      <th>Reviews by Crtiics</th>\n",
       "      <th>IMDB Score</th>\n",
       "      <th>Column</th>\n",
       "    </tr>\n",
       "  </thead>\n",
       "  <tbody>\n",
       "    <tr>\n",
       "      <th>0</th>\n",
       "      <td>Intolerance: Love's Struggle Throughout the Ages</td>\n",
       "      <td>1916.00</td>\n",
       "      <td>Drama|History|War</td>\n",
       "      <td>NaN</td>\n",
       "      <td>USA</td>\n",
       "      <td>Not Rated</td>\n",
       "      <td>123.00</td>\n",
       "      <td>1.33</td>\n",
       "      <td>385907.00</td>\n",
       "      <td>NaN</td>\n",
       "      <td>...</td>\n",
       "      <td>22.00</td>\n",
       "      <td>9.00</td>\n",
       "      <td>481.00</td>\n",
       "      <td>691.00</td>\n",
       "      <td>1.00</td>\n",
       "      <td>10718.00</td>\n",
       "      <td>88.00</td>\n",
       "      <td>69.00</td>\n",
       "      <td>8.00</td>\n",
       "      <td>NaN</td>\n",
       "    </tr>\n",
       "    <tr>\n",
       "      <th>1</th>\n",
       "      <td>Over the Hill to the Poorhouse</td>\n",
       "      <td>1920.00</td>\n",
       "      <td>Crime|Drama</td>\n",
       "      <td>NaN</td>\n",
       "      <td>USA</td>\n",
       "      <td>NaN</td>\n",
       "      <td>110.00</td>\n",
       "      <td>1.33</td>\n",
       "      <td>100000.00</td>\n",
       "      <td>3000000.00</td>\n",
       "      <td>...</td>\n",
       "      <td>2.00</td>\n",
       "      <td>0.00</td>\n",
       "      <td>4.00</td>\n",
       "      <td>0.00</td>\n",
       "      <td>1.00</td>\n",
       "      <td>5.00</td>\n",
       "      <td>1.00</td>\n",
       "      <td>1.00</td>\n",
       "      <td>4.80</td>\n",
       "      <td>NaN</td>\n",
       "    </tr>\n",
       "    <tr>\n",
       "      <th>2</th>\n",
       "      <td>The Big Parade</td>\n",
       "      <td>1925.00</td>\n",
       "      <td>Drama|Romance|War</td>\n",
       "      <td>NaN</td>\n",
       "      <td>USA</td>\n",
       "      <td>Not Rated</td>\n",
       "      <td>151.00</td>\n",
       "      <td>1.33</td>\n",
       "      <td>245000.00</td>\n",
       "      <td>NaN</td>\n",
       "      <td>...</td>\n",
       "      <td>12.00</td>\n",
       "      <td>6.00</td>\n",
       "      <td>108.00</td>\n",
       "      <td>226.00</td>\n",
       "      <td>0.00</td>\n",
       "      <td>4849.00</td>\n",
       "      <td>45.00</td>\n",
       "      <td>48.00</td>\n",
       "      <td>8.30</td>\n",
       "      <td>NaN</td>\n",
       "    </tr>\n",
       "  </tbody>\n",
       "</table>\n",
       "<p>3 rows × 26 columns</p>\n",
       "</div>"
      ],
      "text/plain": [
       "                                               Title    Year  \\\n",
       "0  Intolerance: Love's Struggle Throughout the Ages  1916.00   \n",
       "1                    Over the Hill to the Poorhouse  1920.00   \n",
       "2                                    The Big Parade  1925.00   \n",
       "\n",
       "              Genres Language Country Content Rating  Duration  Aspect Ratio  \\\n",
       "0  Drama|History|War      NaN     USA      Not Rated    123.00          1.33   \n",
       "1        Crime|Drama      NaN     USA            NaN    110.00          1.33   \n",
       "2  Drama|Romance|War      NaN     USA      Not Rated    151.00          1.33   \n",
       "\n",
       "     Budget  Gross Earnings  ... Facebook Likes - Actor 2  \\\n",
       "0 385907.00             NaN  ...                    22.00   \n",
       "1 100000.00      3000000.00  ...                     2.00   \n",
       "2 245000.00             NaN  ...                    12.00   \n",
       "\n",
       "  Facebook Likes - Actor 3 Facebook Likes - cast Total Facebook likes - Movie  \\\n",
       "0                     9.00                      481.00                 691.00   \n",
       "1                     0.00                        4.00                   0.00   \n",
       "2                     6.00                      108.00                 226.00   \n",
       "\n",
       "   Facenumber in posters  User Votes  Reviews by Users  Reviews by Crtiics  \\\n",
       "0                   1.00    10718.00             88.00               69.00   \n",
       "1                   1.00        5.00              1.00                1.00   \n",
       "2                   0.00     4849.00             45.00               48.00   \n",
       "\n",
       "   IMDB Score  Column  \n",
       "0        8.00     NaN  \n",
       "1        4.80     NaN  \n",
       "2        8.30     NaN  \n",
       "\n",
       "[3 rows x 26 columns]"
      ]
     },
     "execution_count": 51,
     "metadata": {},
     "output_type": "execute_result"
    }
   ],
   "source": [
    "# En estos ejemplos a seguir, veamos la película df que creamos.\n",
    "movie_df.head(3)"
   ]
  },
  {
   "cell_type": "code",
   "execution_count": 49,
   "metadata": {},
   "outputs": [
    {
     "data": {
      "text/plain": [
       "11"
      ]
     },
     "execution_count": 49,
     "metadata": {},
     "output_type": "execute_result"
    }
   ],
   "source": [
    "# Antes de continuar, hagamos un control de calidad rápido para ver si hay filas duplicadas\n",
    "movie_df.duplicated().sum()"
   ]
  },
  {
   "cell_type": "code",
   "execution_count": 53,
   "metadata": {},
   "outputs": [
    {
     "name": "stdout",
     "output_type": "stream",
     "text": [
      "0\n"
     ]
    }
   ],
   "source": [
    "# There are 45 duplicated rows. So, let's just drop them ( In other words dedup the dataset)\n",
    "movie_df.drop_duplicates(inplace=True)\n",
    "print(movie_df.duplicated().sum())\n",
    "movie_df.reset_index(drop=True, inplace = True)"
   ]
  },
  {
   "cell_type": "code",
   "execution_count": 54,
   "metadata": {},
   "outputs": [
    {
     "data": {
      "text/plain": [
       "Index(['Title', 'Year', 'Genres', 'Language', 'Country', 'Content Rating',\n",
       "       'Duration', 'Aspect Ratio', 'Budget', 'Gross Earnings', 'Director',\n",
       "       'Actor 1', 'Actor 2', 'Actor 3', 'Facebook Likes - Director',\n",
       "       'Facebook Likes - Actor 1', 'Facebook Likes - Actor 2',\n",
       "       'Facebook Likes - Actor 3', 'Facebook Likes - cast Total',\n",
       "       'Facebook likes - Movie', 'Facenumber in posters', 'User Votes',\n",
       "       'Reviews by Users', 'Reviews by Crtiics', 'IMDB Score', 'Column'],\n",
       "      dtype='object')"
      ]
     },
     "execution_count": 54,
     "metadata": {},
     "output_type": "execute_result"
    }
   ],
   "source": [
    "# Before we start using indexing, let's take a look at some of examples of subsetting the data. That is, using python \n",
    "# to look at data in a different way. Let's look at the columns in this dataframe.. use the .columns method\n",
    "movie_df.columns"
   ]
  }
 ],
 "metadata": {
  "kernelspec": {
   "display_name": "Python 3",
   "language": "python",
   "name": "python3"
  },
  "language_info": {
   "codemirror_mode": {
    "name": "ipython",
    "version": 3
   },
   "file_extension": ".py",
   "mimetype": "text/x-python",
   "name": "python",
   "nbconvert_exporter": "python",
   "pygments_lexer": "ipython3",
   "version": "3.10.4"
  },
  "orig_nbformat": 4,
  "vscode": {
   "interpreter": {
    "hash": "3ad933181bd8a04b432d3370b9dc3b0662ad032c4dfaa4e4f1596c548f763858"
   }
  }
 },
 "nbformat": 4,
 "nbformat_minor": 2
}
